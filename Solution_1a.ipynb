{
  "nbformat": 4,
  "nbformat_minor": 0,
  "metadata": {
    "colab": {
      "provenance": [],
      "include_colab_link": true
    },
    "kernelspec": {
      "name": "python3",
      "display_name": "Python 3"
    },
    "language_info": {
      "name": "python"
    }
  },
  "cells": [
    {
      "cell_type": "markdown",
      "metadata": {
        "id": "view-in-github",
        "colab_type": "text"
      },
      "source": [
        "<a href=\"https://colab.research.google.com/github/Sanchit9587/Abhiyaan_CE24B107/blob/main/Solution_1a.ipynb\" target=\"_parent\"><img src=\"https://colab.research.google.com/assets/colab-badge.svg\" alt=\"Open In Colab\"/></a>"
      ]
    },
    {
      "cell_type": "code",
      "source": [
        "!pip install git+https://github.com/ChrizH/pdfstructure.git"
      ],
      "metadata": {
        "colab": {
          "base_uri": "https://localhost:8080/"
        },
        "id": "dB49EfN0iOeH",
        "outputId": "acf64a87-9490-4dec-a1ba-c311e14d2798"
      },
      "execution_count": 2,
      "outputs": [
        {
          "output_type": "stream",
          "name": "stdout",
          "text": [
            "Collecting git+https://github.com/ChrizH/pdfstructure.git\n",
            "  Cloning https://github.com/ChrizH/pdfstructure.git to /tmp/pip-req-build-m_mv1q94\n",
            "  Running command git clone --filter=blob:none --quiet https://github.com/ChrizH/pdfstructure.git /tmp/pip-req-build-m_mv1q94\n",
            "  Resolved https://github.com/ChrizH/pdfstructure.git to commit 1be97d954418b17d0d628ae6595c6aab54c7bd1c\n",
            "  Preparing metadata (setup.py) ... \u001b[?25l\u001b[?25hdone\n"
          ]
        }
      ]
    },
    {
      "cell_type": "code",
      "source": [
        "!git clone https://github.com/ChrizH/pdfstructure.git"
      ],
      "metadata": {
        "colab": {
          "base_uri": "https://localhost:8080/"
        },
        "id": "o-lIKjAKka-I",
        "outputId": "3c7f14f8-8cc4-4e10-fdff-a677d90b3725"
      },
      "execution_count": 3,
      "outputs": [
        {
          "output_type": "stream",
          "name": "stdout",
          "text": [
            "Cloning into 'pdfstructure'...\n",
            "remote: Enumerating objects: 390, done.\u001b[K\n",
            "remote: Counting objects: 100% (390/390), done.\u001b[K\n",
            "remote: Compressing objects: 100% (190/190), done.\u001b[K\n",
            "remote: Total 390 (delta 248), reused 332 (delta 191), pack-reused 0 (from 0)\u001b[K\n",
            "Receiving objects: 100% (390/390), 1.44 MiB | 8.71 MiB/s, done.\n",
            "Resolving deltas: 100% (248/248), done.\n"
          ]
        }
      ]
    },
    {
      "cell_type": "code",
      "source": [
        "!cd pdfstructure"
      ],
      "metadata": {
        "id": "bUb071ROkd62"
      },
      "execution_count": 4,
      "outputs": []
    },
    {
      "cell_type": "code",
      "metadata": {
        "colab": {
          "base_uri": "https://localhost:8080/"
        },
        "id": "02475b6c",
        "outputId": "bdf15552-beaa-46f0-fa42-fa9a763f9689"
      },
      "source": [
        "!pip install -r pdfstructure/requirements.txt"
      ],
      "execution_count": 5,
      "outputs": [
        {
          "output_type": "stream",
          "name": "stdout",
          "text": [
            "Collecting sortedcontainers==2.2.2 (from -r pdfstructure/requirements.txt (line 1))\n",
            "  Downloading sortedcontainers-2.2.2-py2.py3-none-any.whl.metadata (10 kB)\n",
            "Collecting pdfminer.six==20200517 (from -r pdfstructure/requirements.txt (line 2))\n",
            "  Downloading pdfminer.six-20200517-py3-none-any.whl.metadata (3.1 kB)\n",
            "Collecting pycryptodome (from pdfminer.six==20200517->-r pdfstructure/requirements.txt (line 2))\n",
            "  Downloading pycryptodome-3.23.0-cp37-abi3-manylinux_2_17_x86_64.manylinux2014_x86_64.whl.metadata (3.4 kB)\n",
            "Requirement already satisfied: chardet in /usr/local/lib/python3.11/dist-packages (from pdfminer.six==20200517->-r pdfstructure/requirements.txt (line 2)) (5.2.0)\n",
            "Downloading sortedcontainers-2.2.2-py2.py3-none-any.whl (29 kB)\n",
            "Downloading pdfminer.six-20200517-py3-none-any.whl (5.6 MB)\n",
            "\u001b[2K   \u001b[90m━━━━━━━━━━━━━━━━━━━━━━━━━━━━━━━━━━━━━━━━\u001b[0m \u001b[32m5.6/5.6 MB\u001b[0m \u001b[31m49.3 MB/s\u001b[0m eta \u001b[36m0:00:00\u001b[0m\n",
            "\u001b[?25hDownloading pycryptodome-3.23.0-cp37-abi3-manylinux_2_17_x86_64.manylinux2014_x86_64.whl (2.3 MB)\n",
            "\u001b[2K   \u001b[90m━━━━━━━━━━━━━━━━━━━━━━━━━━━━━━━━━━━━━━━━\u001b[0m \u001b[32m2.3/2.3 MB\u001b[0m \u001b[31m57.2 MB/s\u001b[0m eta \u001b[36m0:00:00\u001b[0m\n",
            "\u001b[?25hInstalling collected packages: sortedcontainers, pycryptodome, pdfminer.six\n",
            "  Attempting uninstall: sortedcontainers\n",
            "    Found existing installation: sortedcontainers 2.4.0\n",
            "    Uninstalling sortedcontainers-2.4.0:\n",
            "      Successfully uninstalled sortedcontainers-2.4.0\n",
            "Successfully installed pdfminer.six-20200517 pycryptodome-3.23.0 sortedcontainers-2.2.2\n"
          ]
        }
      ]
    },
    {
      "cell_type": "code",
      "execution_count": 6,
      "metadata": {
        "id": "QpA-zq7afmnB"
      },
      "outputs": [],
      "source": [
        "from pdfstructure.hierarchy.parser import HierarchyParser\n",
        "from pdfstructure.source import FileSource"
      ]
    },
    {
      "cell_type": "code",
      "source": [
        "path = \"/content/6874faecd848a_Adobe_India_Hackathon_-_Challenge_Doc[1].pdf\""
      ],
      "metadata": {
        "id": "cg3DRR1ClqPu"
      },
      "execution_count": 7,
      "outputs": []
    },
    {
      "cell_type": "code",
      "source": [
        "parser = HierarchyParser()\n",
        "doc = parser.parse_pdf(FileSource(path))"
      ],
      "metadata": {
        "id": "jCVz5dh9iq3N"
      },
      "execution_count": 10,
      "outputs": []
    },
    {
      "cell_type": "code",
      "source": [
        "source = FileSource(path)\n",
        "\n",
        "# analyse document and parse as nested data structure\n",
        "document = parser.parse_pdf(source)"
      ],
      "metadata": {
        "id": "pkJyxugPllbS"
      },
      "execution_count": 11,
      "outputs": []
    },
    {
      "cell_type": "code",
      "source": [
        "from pdfstructure.printer import PrettyStringPrinter\n",
        "\n",
        "stringExporter = PrettyStringPrinter()\n",
        "prettyString = stringExporter.print(document)"
      ],
      "metadata": {
        "id": "s-yF-SmUsfbT"
      },
      "execution_count": 12,
      "outputs": []
    },
    {
      "cell_type": "code",
      "source": [
        "print(prettyString)"
      ],
      "metadata": {
        "colab": {
          "base_uri": "https://localhost:8080/"
        },
        "id": "aHkOblWZsht6",
        "outputId": "4690f7e1-0cb5-4d18-b6a0-23cde98f7526"
      },
      "execution_count": 13,
      "outputs": [
        {
          "output_type": "stream",
          "name": "stdout",
          "text": [
            "\n",
            "\n",
            "[Welcome to the “Connecting the Dots” Challenge]\n",
            "\n",
            "\t[ethink Reading. Rediscover Knowledge]\n",
            "\t\tWhat if every time you opened a PDF, it didn’t just sit there—it spoke to you, \n",
            "\t\tconnected ideas, and narrated meaning across your entire library?\n",
            "\t\tThat’s the future we’re building — and we want you to help shape it.\n",
            "\t\tIn the Connecting the Dots Challenge, your mission is to reimagine the humble \n",
            "\t\tPDF as an intelligent, interactive experience—one that understands structure, \n",
            "\t\tsurfaces insights, and responds to you like a trusted research companion.\n",
            "\tThe Journey Ahead\n",
            "\n",
            "\t[•  Round 1:]\n",
            "\t\tKick things off by building the brains — extract structured outlines from \n",
            "\t\traw PDFs with blazing speed and pinpoint accuracy. Then, power it up \n",
            "\t\twith on-device intelligence that understands sections and links related \n",
            "\t\tideas together.\n",
            "\n",
            "\t[•  Round 2:]\n",
            "\t\tIt’s showtime! Build a beautiful, intuitive reading webapp using Adobe’s \n",
            "\t\tPDF Embed API. You will be using your Round 1 work to design a \n",
            "\t\tfuturistic webapp.\n",
            "\n",
            "\t[Why This Matters]\n",
            "\t\tIn a world flooded with documents, what wins is not more content — it’s \n",
            "\t\tcontext. You’re not just building tools — you’re building the future of how we \n",
            "\t\tread, learn, and connect. No matter your background — ML hacker, UI builder, \n",
            "\t\tor insight whisperer — this is your stage.\n",
            "\n",
            "\t[Are you in?]\n",
            "\t\tIt’s time to read between the lines. Connect the dots. And build a PDF \n",
            "\t\texperience that feels like magic. Let’s go.\n",
            "\n",
            "[Round 1A: Understand Your Document]\n",
            "\tChallenge Theme: Connecting the Dots Through Docs\n",
            "\n",
            "\t[Your Mission]\n",
            "\t\tYou're handed a PDF — but instead of simply reading it, you're tasked with \n",
            "\t\tmaking sense of it like a machine would. Your job is to extract a structured \n",
            "\t\toutline of the document — essentially the Title, and headings like H1, H2, and \n",
            "\t\tH3 — in a clean, hierarchical format.\n",
            "\t\tThis outline will be the foundation for the rest of your hackathon journey.\n",
            "\n",
            "\t[Why This Matters]\n",
            "\t\tPDFs are everywhere — but machines don’t naturally understand their \n",
            "\t\tstructure. By building an outline extractor, you’re enabling smarter document \n",
            "\t\texperiences, like semantic search, recommendation systems, and insight \n",
            "\t\tgeneration.\n",
            "\n",
            "\t[What You Need to Build]\n",
            "\t\tYou must build a solution that:\n",
            "\t\t•  Accepts a PDF file (up to 50 pages)  \n",
            "\t\t•  Extracts:\n",
            "\t\to  Title  \n",
            "\t\to  Headings: H1, H2, H3 (with level and page number)\n",
            "\t\t•  Outputs a valid JSON file in the format below:\n",
            "\t\t{  \n",
            "\t\t  \"title\": \"Understanding AI\",  \n",
            "\t\t  \"outline\": [  \n",
            "\t\t    { \"level\": \"H1\", \"text\": \"Introduction\", \"page\": 1 },  \n",
            "\t\t    { \"level\": \"H2\", \"text\": \"What is AI?\", \"page\": 2 },  \n",
            "\t\t    { \"level\": \"H3\", \"text\": \"History of AI\", \"page\": 3 }  \n",
            "\t\t  ]  \n",
            "\t\t}\n",
            "\n",
            "\t[You Will Be Provided]\n",
            "\t\t1.  A sample input PDF (e.g., sample.pdf)  \n",
            "\t\t2.  A sample ground truth output (sample.json) for format clarity\n",
            "\t\t3.  Sample Dockerfile  \n",
            "\t\t4.  Sample Solution\n",
            "\n",
            "\t[Docker Requirements]\n",
            "\t\t•\n",
            "\t\t•  Please ensure your Dockerfile is compatible with AMD64 \n",
            "\t\tarchitecture. Since we will build and run the image on an AMD64 \n",
            "\t\tmachine, your base image and any dependencies should support \n",
            "\t\tlinux/amd64. Optionally, you can include the following in your \n",
            "\t\tDockerfile to explicitly specify the platform: FROM --\n",
            "\t\tplatform=linux/amd64 <base_image>  \n",
            "\t\t•  CPU architecture: amd64 (x86_64)  \n",
            "\t\t•  No GPU dependencies  \n",
            "\t\t•  Model size (if used) ≤ 200MB  \n",
            "\t\t•  Should work offline — no network/internet calls\n",
            "\n",
            "\t[Expected Execution]\n",
            "\t\tWe will build the docker image using the following command:\n",
            "\t\t```docker build --platform linux/amd64 -t \n",
            "\t\tmysolutionname:somerandomidentifier```\n",
            "\t\tAfter building the image, we will run the solution using the run command \n",
            "\t\tspecified in the submitted instructions.\n",
            "\t\t```docker run --rm -v $(pwd)/input:/app/input -v $(pwd)/output:/app/output --\n",
            "\t\tnetwork none mysolutionname:somerandomidentifier```\n",
            "\t\tYour container should:\n",
            "\t\t•  Automatically process all PDFs from /app/input directory, \n",
            "\t\tgenerating a corresponding filename.json in /app/output for each \n",
            "\t\tfilename.pdf  \n",
            "\t\t•  output.json\n",
            "\tConstraints\n",
            "\n",
            "\t[Constraint]\n",
            "\t\tExecution \n",
            "\t\ttime\n",
            "\t\tRequirement  \n",
            "\t\t≤ 10 seconds for a 50-page \n",
            "\t\tPDF\n",
            "\t\tNetwork\n",
            "\t\tModel size   ≤ 200MB (if used)  \n",
            "\t\tNo internet access \n",
            "\t\tallowed  \n",
            "\t\tMust run on CPU (amd64), \n",
            "\t\tyour solution should run on \n",
            "\t\tthe system with 8 CPUs and \n",
            "\t\t16 GB RAM configurations\n",
            "\t\tRuntime\n",
            "\tScoring Criteria\n",
            "\tCriteria\n",
            "\n",
            "\t[Max \n",
            "\tPoints]\n",
            "\t\tHeading Detection Accuracy (Precision + \n",
            "\t\tRecall)  \n",
            "\t\tPerformance (Time & Size Compliance)   10  \n",
            "\t\tBonus: Multilingual Handling (e.g., \n",
            "\t\tJapanese)  \n",
            "\t\tTotal\n",
            "\t\t10\n",
            "\t\t25\n",
            "\t\t45\n",
            "\n",
            "\t[Submission Checklist]\n",
            "\t\t1.  Git Project with a working Dockerfile in the root director and   \n",
            "\t\t2.  A working Dockerfile  \n",
            "\t\t3.  All dependencies installed within the container  \n",
            "\t\t4.  A README.md that explains:  \n",
            "\t\to  Your approach  \n",
            "\t\to  Any models or libraries used  \n",
            "\t\to  How to build and run your solution (This is purely for \n",
            "\t\tdocumentation purpose, your solution should run using the \n",
            "\t\t“Expected Execution” section above.\n",
            "\n",
            "\t[Pro Tips]\n",
            "\t\t•  Don’t rely solely on font sizes for heading level determination — \n",
            "\t\theadings in some PDFs break that assumption.  \n",
            "\t\t•  Test your solution across both simple and complex PDFs.  \n",
            "\t\t•  Make your code modular — you’ll reuse this structure in Round \n",
            "\t\t1B.\n",
            "\t\tImportant – Please keep your Git Repo private till the competition\n",
            "\t\t•\n",
            "\t\tdeadline, you will be informed, when to make the repo public.\n",
            "\n",
            "\t[What Not to Do]\n",
            "\t\t•  Do not hardcode headings or file-specific logic  \n",
            "\t\t•  Do not make API or web calls  \n",
            "\t\t•  Do not exceed the runtime/model size constraints\n",
            "\t[[Public Dataset Folder]]\n",
            "\t(For Sample Input and Output Files, please refer to the appendix)\n",
            "\n",
            "[Round 1B: Persona-Driven Document Intelligence]\n",
            "\tTheme: “Connect What Matters — For the User Who Matters”\n",
            "\n",
            "\t[Challenge Brief (For Participants)]\n",
            "\t\tYou will build a system that acts as an intelligent document analyst, extracting \n",
            "\t\tand prioritizing the most relevant sections from a collection of documents based \n",
            "\t\ton a specific persona and their job-to-be-done.\n",
            "\tInput Specification\n",
            "\n",
            "\t[2.  Document Collection: 3-10 related PDFs Persona Definition: Role]\n",
            "\t\tdescription with specific expertise and focus areas\n",
            "\t\t3.  Job-to-be-Done: Concrete task the persona needs to accomplish\n",
            "\t\tDocument collection, persona and job-to-be-done can be very diverse. So, the \n",
            "\t\tsolution that teams need to build needs to be generic to generalize to this \n",
            "\t\tvariety.\n",
            "\t\t•  Documents can be from any domain (Example: Research papers, \n",
            "\t\tschool/college books, financial reports, news articles etc.)  \n",
            "\t\t•  Persona can again be very diverse (Example: Researcher, Student, \n",
            "\t\tSalesperson, Journalist, Entrepreneur etc)\n",
            "\t\tJob-to-be-done: This will be related to the persona (Example:\n",
            "\t\t•\n",
            "\t\tProvide a literature review for a given topic and available research \n",
            "\t\tpapers, What should I study for Organic Chemistry given the \n",
            "\t\tchemistry documents, Summarize the financials of corporation xyz \n",
            "\t\tgiven the detailed year end financial reports etc.)\n",
            "\t\tSample Test Cases\n",
            "\n",
            "\t\t[Test Case 1: Academic Research]\n",
            "\t\t\t•  Documents: 4 research papers on \"Graph Neural Networks for \n",
            "\t\t\tDrug Discovery\"  \n",
            "\t\t\t•  Persona: PhD Researcher in Computational Biology\n",
            "\t\t\tJob: \"Prepare a comprehensive literature review focusing on\n",
            "\t\t\t•\n",
            "\t\t\tmethodologies, datasets, and performance benchmarks\"\n",
            "\n",
            "\t\t[Test Case 2: Business Analysis]\n",
            "\t\t\t•  Documents: 3 annual reports from competing tech companies \n",
            "\t\t\t(2022-2024)  \n",
            "\t\t\t•  Persona: Investment Analyst\n",
            "\t\t\tJob: \"Analyze revenue trends, R&D investments, and market\n",
            "\t\t\t•\n",
            "\t\t\tpositioning strategies\"\n",
            "\n",
            "\t\t[Test Case 3: Educational Content]\n",
            "\t\t\t•  Documents: 5 chapters from organic chemistry textbooks  \n",
            "\t\t\t•  Persona: Undergraduate Chemistry Student\n",
            "\t\t\tJob: \"Identify key concepts and mechanisms for exam preparation\n",
            "\t\t\t•\n",
            "\t\t\ton reaction kinetics\"\n",
            "\n",
            "\t\t[Required Output]\n",
            "\t\t\tThe output should contain:\n",
            "\t\t\t•  Output JSON format: Refer challenge1b_output.json\n",
            "\t\t\t1.  Metadata:\n",
            "\t\t\ta.  Input documents  \n",
            "\t\t\tb.  Persona  \n",
            "\t\t\tc.  Job to be done  \n",
            "\t\t\td.  Processing timestamp\n",
            "\t\t\t2.  Extracted Section:\n",
            "\t\t\ta.  Document  \n",
            "\t\t\tb.  Page number  \n",
            "\t\t\tc.  Section title  \n",
            "\t\t\td.  Importance_rank\n",
            "\t\t\t3.  Sub-section Analysis:  \n",
            "\t\t\ta.  Document\n",
            "\t\t\tb.   \n",
            "\t\t\tc.  Refined Text \n",
            "\t\t\td.  Page Number Constraints\n",
            "\t\t\t•  Must run on CPU only  \n",
            "\t\t\t•  Model size ≤ 1GB  \n",
            "\t\t\t•  Processing time ≤ 60 seconds for document collection (3-5 \n",
            "\t\t\tdocuments)  \n",
            "\t\t\t•  No internet access allowed during execution\n",
            "\n",
            "\t\t[Deliverables]\n",
            "\t\t\t•  approach_explanation.md (300-500 words explaining \n",
            "\t\t\tmethodology)  \n",
            "\t\t\t•  Dockerfile and execution instructions\n",
            "\t\t\tSample input/output for testing\n",
            "\t\t\t•\n",
            "\t\tcoring Criteria\n",
            "\n",
            "\t\t[Criteria]\n",
            "\t\t\tSection Relevance\n",
            "\t\t\tSub-Section Relevance\n",
            "\n",
            "\t\t[Max \n",
            "\t\tPoints]\n",
            "\t\t\t60\n",
            "\t\t\t40\n",
            "\n",
            "\t\t[Description]\n",
            "\t\t\tHow well selected sections match \n",
            "\t\t\tpersona + job requirements with \n",
            "\t\t\tproper stack ranking  \n",
            "\t\t\tQuality of granular subsection \n",
            "\t\t\textraction and ranking\n",
            "\tppendix:\n",
            "https://github.com/jhaaj08/Adobe-India-\n",
            "Hackathon25.git\n"
          ]
        }
      ]
    },
    {
      "cell_type": "code",
      "source": [
        "from pdfstructure.printer import JsonFilePrinter\n",
        "from pathlib import Path\n",
        "\n",
        "printer = JsonFilePrinter()\n",
        "file_path = Path(\"/content/extracted.json\")\n",
        "\n",
        "printer.print(document, file_path=str(file_path.absolute()))"
      ],
      "metadata": {
        "colab": {
          "base_uri": "https://localhost:8080/",
          "height": 36
        },
        "id": "yYPo1KPgwGe7",
        "outputId": "bdf0a158-61bd-4c91-e941-d8fe9e22cce5"
      },
      "execution_count": 14,
      "outputs": [
        {
          "output_type": "execute_result",
          "data": {
            "text/plain": [
              "'/content/extracted.json'"
            ],
            "application/vnd.google.colaboratory.intrinsic+json": {
              "type": "string"
            }
          },
          "metadata": {},
          "execution_count": 14
        }
      ]
    },
    {
      "cell_type": "code",
      "source": [
        "!du -sh /usr/local/lib/python*/dist-packages/pdfstructure"
      ],
      "metadata": {
        "colab": {
          "base_uri": "https://localhost:8080/"
        },
        "id": "72wbCKsCygmW",
        "outputId": "bdd4d6b3-0fa0-4211-8fe6-cd3a5d53cdcb"
      },
      "execution_count": 15,
      "outputs": [
        {
          "output_type": "stream",
          "name": "stdout",
          "text": [
            "212K\t/usr/local/lib/python3.11/dist-packages/pdfstructure\n"
          ]
        }
      ]
    },
    {
      "cell_type": "code",
      "source": [],
      "metadata": {
        "id": "ZGiDpiaByg91"
      },
      "execution_count": null,
      "outputs": []
    }
  ]
}